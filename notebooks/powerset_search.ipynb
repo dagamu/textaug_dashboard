{
 "cells": [
  {
   "cell_type": "code",
   "execution_count": 52,
   "metadata": {},
   "outputs": [
    {
     "name": "stdout",
     "output_type": "stream",
     "text": [
      "[[ 1.  0.  0.  1.]\n",
      " [ 1. -0. -0.  1.]\n",
      " [ 0.  0.  1. -0.]\n",
      " [ 0.  0. -0.  1.]\n",
      " [ 1.  0.  1.  1.]\n",
      " [ 1. -0. -0.  1.]\n",
      " [-0.  1.  0.  1.]]\n",
      "1.0\n"
     ]
    }
   ],
   "source": [
    "import numpy as np\n",
    "from scipy.linalg import orth\n",
    "\n",
    "def generate_encoder(labels, k):\n",
    "    rng = np.random.default_rng()\n",
    "    A = rng.integers(0, 2, size=(labels, k))\n",
    "    while np.linalg.matrix_rank(A) < k:\n",
    "        A = rng.integers(0, 2, size=(labels, k))\n",
    "    return A\n",
    "\n",
    "# 4 SAMPLES X 4 LABELS\n",
    "input_m = np.array([\n",
    "    [1, 1, 0, 1],\n",
    "    [1, 0, 0, 1],\n",
    "    [0, 0, 1, 0],\n",
    "    [0, 0, 0, 1],\n",
    "    [1, 0, 1, 1],\n",
    "    [1, 0, 0, 1],\n",
    "    [0, 1, 0, 1],\n",
    "])\n",
    "\n",
    "# Generar encoder y decoder\n",
    "k = 3\n",
    "encoder = generate_encoder(input_m.shape[1], k)\n",
    "decoder = np.linalg.pinv(encoder)\n",
    "\n",
    "# Reconstrucción\n",
    "reconstructed = np.round( (input_m @ encoder) @ decoder )\n",
    "print( reconstructed )\n",
    "print( np.sum( (input_m - reconstructed)**2 ) )"
   ]
  },
  {
   "cell_type": "code",
   "execution_count": 17,
   "metadata": {},
   "outputs": [
    {
     "name": "stdout",
     "output_type": "stream",
     "text": [
      "[[0 1 1]\n",
      " [1 1 1]\n",
      " [0 1 1]\n",
      " [1 0 1]]\n",
      "[[-0.5  1.  -0.5 -0. ]\n",
      " [-0.   1.   0.  -1. ]\n",
      " [ 0.5 -1.   0.5  1. ]]\n"
     ]
    }
   ],
   "source": [
    "print(encoder)\n",
    "print(np.round(decoder, 5))"
   ]
  }
 ],
 "metadata": {
  "kernelspec": {
   "display_name": "Python 3",
   "language": "python",
   "name": "python3"
  },
  "language_info": {
   "codemirror_mode": {
    "name": "ipython",
    "version": 3
   },
   "file_extension": ".py",
   "mimetype": "text/x-python",
   "name": "python",
   "nbconvert_exporter": "python",
   "pygments_lexer": "ipython3",
   "version": "3.10.11"
  }
 },
 "nbformat": 4,
 "nbformat_minor": 2
}
