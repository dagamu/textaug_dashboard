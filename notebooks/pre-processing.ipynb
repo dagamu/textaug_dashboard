{
 "cells": [
  {
   "cell_type": "code",
   "execution_count": null,
   "metadata": {},
   "outputs": [],
   "source": [
    "\n",
    "from datasets import load_dataset\n",
    "import pandas as pd\n",
    "\n",
    "ds = load_dataset(\"Abirate/english_quotes\", split=\"train\")\n",
    "df = ds.to_pandas()"
   ]
  },
  {
   "cell_type": "code",
   "execution_count": 28,
   "metadata": {},
   "outputs": [
    {
     "data": {
      "text/plain": [
       "(2508, 5)"
      ]
     },
     "execution_count": 28,
     "metadata": {},
     "output_type": "execute_result"
    }
   ],
   "source": [
    "df.shape"
   ]
  },
  {
   "cell_type": "code",
   "execution_count": 12,
   "metadata": {},
   "outputs": [
    {
     "data": {
      "text/html": [
       "<div>\n",
       "<style scoped>\n",
       "    .dataframe tbody tr th:only-of-type {\n",
       "        vertical-align: middle;\n",
       "    }\n",
       "\n",
       "    .dataframe tbody tr th {\n",
       "        vertical-align: top;\n",
       "    }\n",
       "\n",
       "    .dataframe thead th {\n",
       "        text-align: right;\n",
       "    }\n",
       "</style>\n",
       "<table border=\"1\" class=\"dataframe\">\n",
       "  <thead>\n",
       "    <tr style=\"text-align: right;\">\n",
       "      <th></th>\n",
       "      <th>quote</th>\n",
       "      <th>quote_cleaned</th>\n",
       "    </tr>\n",
       "  </thead>\n",
       "  <tbody>\n",
       "    <tr>\n",
       "      <th>0</th>\n",
       "      <td>“Be yourself; everyone else is already taken.”</td>\n",
       "      <td>“be yourself; taken.”</td>\n",
       "    </tr>\n",
       "    <tr>\n",
       "      <th>1</th>\n",
       "      <td>“I'm selfish, impatient and a little insecure....</td>\n",
       "      <td>“i'm selfish, impatient little insecure. mista...</td>\n",
       "    </tr>\n",
       "    <tr>\n",
       "      <th>2</th>\n",
       "      <td>“Two things are infinite: the universe and hum...</td>\n",
       "      <td>“two things infinite: universe human stupidity...</td>\n",
       "    </tr>\n",
       "    <tr>\n",
       "      <th>3</th>\n",
       "      <td>“So many books, so little time.”</td>\n",
       "      <td>“so books, little time.”</td>\n",
       "    </tr>\n",
       "    <tr>\n",
       "      <th>4</th>\n",
       "      <td>“A room without books is like a body without a...</td>\n",
       "      <td>“a room books like body soul.”</td>\n",
       "    </tr>\n",
       "    <tr>\n",
       "      <th>5</th>\n",
       "      <td>“Be who you are and say what you feel, because...</td>\n",
       "      <td>“be feel, mind matter, matter mind.”</td>\n",
       "    </tr>\n",
       "    <tr>\n",
       "      <th>6</th>\n",
       "      <td>“You've gotta dance like there's nobody watchi...</td>\n",
       "      <td>“you've gotta dance like there's watching,love...</td>\n",
       "    </tr>\n",
       "    <tr>\n",
       "      <th>7</th>\n",
       "      <td>“You know you're in love when you can't fall a...</td>\n",
       "      <td>“you know love can't fall asleep reality final...</td>\n",
       "    </tr>\n",
       "    <tr>\n",
       "      <th>8</th>\n",
       "      <td>“You only live once, but if you do it right, o...</td>\n",
       "      <td>“you live once, right, enough.”</td>\n",
       "    </tr>\n",
       "    <tr>\n",
       "      <th>9</th>\n",
       "      <td>“Be the change that you wish to see in the wor...</td>\n",
       "      <td>“be change wish world.”</td>\n",
       "    </tr>\n",
       "    <tr>\n",
       "      <th>10</th>\n",
       "      <td>“In three words I can sum up everything I've l...</td>\n",
       "      <td>“in words sum i've learned life: goes on.”</td>\n",
       "    </tr>\n",
       "    <tr>\n",
       "      <th>11</th>\n",
       "      <td>“If you want to know what a man's like, take a...</td>\n",
       "      <td>“if want know man's like, good look treats inf...</td>\n",
       "    </tr>\n",
       "    <tr>\n",
       "      <th>12</th>\n",
       "      <td>“Donâ€™t walk in front of meâ€¦ I may not foll...</td>\n",
       "      <td>“donâ€™t walk meâ€¦ followdonâ€™t walk meâ€¦ l...</td>\n",
       "    </tr>\n",
       "    <tr>\n",
       "      <th>13</th>\n",
       "      <td>“If you tell the truth, you don't have to reme...</td>\n",
       "      <td>“if tell truth, remember anything.”</td>\n",
       "    </tr>\n",
       "    <tr>\n",
       "      <th>14</th>\n",
       "      <td>“Friendship ... is born at the moment when one...</td>\n",
       "      <td>“friendship ... born moment man says \"what! to...</td>\n",
       "    </tr>\n",
       "    <tr>\n",
       "      <th>15</th>\n",
       "      <td>“A friend is someone who knows all about you a...</td>\n",
       "      <td>“a friend knows loves you.”</td>\n",
       "    </tr>\n",
       "    <tr>\n",
       "      <th>16</th>\n",
       "      <td>“Always forgive your enemies; nothing annoys t...</td>\n",
       "      <td>“always forgive enemies; annoys much.”</td>\n",
       "    </tr>\n",
       "    <tr>\n",
       "      <th>17</th>\n",
       "      <td>“To live is the rarest thing in the world. Mos...</td>\n",
       "      <td>“to live rarest thing world. people exist, all.”</td>\n",
       "    </tr>\n",
       "    <tr>\n",
       "      <th>18</th>\n",
       "      <td>“Live as if you were to die tomorrow. Learn as...</td>\n",
       "      <td>“live die tomorrow. learn live forever.”</td>\n",
       "    </tr>\n",
       "    <tr>\n",
       "      <th>19</th>\n",
       "      <td>“Darkness cannot drive out darkness: only ligh...</td>\n",
       "      <td>“darkness drive darkness: light that. hate dri...</td>\n",
       "    </tr>\n",
       "  </tbody>\n",
       "</table>\n",
       "</div>"
      ],
      "text/plain": [
       "                                                quote  \\\n",
       "0      “Be yourself; everyone else is already taken.”   \n",
       "1   “I'm selfish, impatient and a little insecure....   \n",
       "2   “Two things are infinite: the universe and hum...   \n",
       "3                    “So many books, so little time.”   \n",
       "4   “A room without books is like a body without a...   \n",
       "5   “Be who you are and say what you feel, because...   \n",
       "6   “You've gotta dance like there's nobody watchi...   \n",
       "7   “You know you're in love when you can't fall a...   \n",
       "8   “You only live once, but if you do it right, o...   \n",
       "9   “Be the change that you wish to see in the wor...   \n",
       "10  “In three words I can sum up everything I've l...   \n",
       "11  “If you want to know what a man's like, take a...   \n",
       "12  “Donâ€™t walk in front of meâ€¦ I may not foll...   \n",
       "13  “If you tell the truth, you don't have to reme...   \n",
       "14  “Friendship ... is born at the moment when one...   \n",
       "15  “A friend is someone who knows all about you a...   \n",
       "16  “Always forgive your enemies; nothing annoys t...   \n",
       "17  “To live is the rarest thing in the world. Mos...   \n",
       "18  “Live as if you were to die tomorrow. Learn as...   \n",
       "19  “Darkness cannot drive out darkness: only ligh...   \n",
       "\n",
       "                                        quote_cleaned  \n",
       "0                               “be yourself; taken.”  \n",
       "1   “i'm selfish, impatient little insecure. mista...  \n",
       "2   “two things infinite: universe human stupidity...  \n",
       "3                            “so books, little time.”  \n",
       "4                      “a room books like body soul.”  \n",
       "5                “be feel, mind matter, matter mind.”  \n",
       "6   “you've gotta dance like there's watching,love...  \n",
       "7   “you know love can't fall asleep reality final...  \n",
       "8                     “you live once, right, enough.”  \n",
       "9                             “be change wish world.”  \n",
       "10         “in words sum i've learned life: goes on.”  \n",
       "11  “if want know man's like, good look treats inf...  \n",
       "12  “donâ€™t walk meâ€¦ followdonâ€™t walk meâ€¦ l...  \n",
       "13                “if tell truth, remember anything.”  \n",
       "14  “friendship ... born moment man says \"what! to...  \n",
       "15                        “a friend knows loves you.”  \n",
       "16             “always forgive enemies; annoys much.”  \n",
       "17   “to live rarest thing world. people exist, all.”  \n",
       "18           “live die tomorrow. learn live forever.”  \n",
       "19  “darkness drive darkness: light that. hate dri...  "
      ]
     },
     "execution_count": 12,
     "metadata": {},
     "output_type": "execute_result"
    }
   ],
   "source": [
    "from neattext.functions import clean_text\n",
    "\n",
    "df[\"quote_cleaned\"] = df[\"quote\"].apply(clean_text)\n",
    "df[[\"quote\", \"quote_cleaned\"]].head(20)"
   ]
  },
  {
   "cell_type": "code",
   "execution_count": 27,
   "metadata": {},
   "outputs": [
    {
     "data": {
      "text/plain": [
       "(1499, 2)"
      ]
     },
     "execution_count": 27,
     "metadata": {},
     "output_type": "execute_result"
    }
   ],
   "source": [
    "from nltk.stem import WordNetLemmatizer\n",
    "from nltk.tokenize import word_tokenize\n",
    "\n",
    "lemmatizer = WordNetLemmatizer()\n",
    "def pre_process(text):\n",
    "    return ' '.join( [lemmatizer.lemmatize(token) for token in word_tokenize(text) ])\n",
    "\n",
    "df[\"quote_lemmatized\"] = df[\"quote_cleaned\"].apply( pre_process  )\n",
    "df[ df[\"quote_cleaned\"].apply(word_tokenize) != df[\"quote_lemmatized\"].apply(word_tokenize) ][[\"quote_lemmatized\", \"quote_cleaned\"]].shape"
   ]
  },
  {
   "cell_type": "code",
   "execution_count": 29,
   "metadata": {},
   "outputs": [
    {
     "data": {
      "text/plain": [
       "(2508, 7261)"
      ]
     },
     "execution_count": 29,
     "metadata": {},
     "output_type": "execute_result"
    }
   ],
   "source": [
    "from sklearn.feature_extraction.text import CountVectorizer\n",
    "\n",
    "vectorizer = CountVectorizer()\n",
    "cleaned_vectorized = vectorizer.fit_transform( df[\"quote_cleaned\"] )\n",
    "cleaned_vectorized.shape"
   ]
  },
  {
   "cell_type": "code",
   "execution_count": 30,
   "metadata": {},
   "outputs": [
    {
     "data": {
      "text/plain": [
       "(2508, 6587)"
      ]
     },
     "execution_count": 30,
     "metadata": {},
     "output_type": "execute_result"
    }
   ],
   "source": [
    "lemmatized_vectorized = vectorizer.fit_transform( df[\"quote_lemmatized\"] )\n",
    "lemmatized_vectorized.shape"
   ]
  }
 ],
 "metadata": {
  "kernelspec": {
   "display_name": "Python 3",
   "language": "python",
   "name": "python3"
  },
  "language_info": {
   "codemirror_mode": {
    "name": "ipython",
    "version": 3
   },
   "file_extension": ".py",
   "mimetype": "text/x-python",
   "name": "python",
   "nbconvert_exporter": "python",
   "pygments_lexer": "ipython3",
   "version": "3.10.11"
  }
 },
 "nbformat": 4,
 "nbformat_minor": 2
}
