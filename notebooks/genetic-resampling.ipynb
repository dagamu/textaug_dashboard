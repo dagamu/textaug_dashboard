{
 "cells": [
  {
   "cell_type": "code",
   "execution_count": null,
   "metadata": {},
   "outputs": [],
   "source": [
    "import numpy as np\n",
    "from datasets import load_dataset"
   ]
  },
  {
   "cell_type": "code",
   "execution_count": 5,
   "metadata": {},
   "outputs": [],
   "source": [
    "# Load the dataset\n",
    "dataset = load_dataset(\"qanastek/HoC\", split=\"train\", trust_remote_code=True)\n",
    "y = dataset['label']"
   ]
  },
  {
   "cell_type": "code",
   "execution_count": 6,
   "metadata": {},
   "outputs": [
    {
     "data": {
      "text/plain": [
       "(12119, 11)"
      ]
     },
     "execution_count": 6,
     "metadata": {},
     "output_type": "execute_result"
    }
   ],
   "source": [
    "from sklearn.preprocessing import MultiLabelBinarizer\n",
    "mlb = MultiLabelBinarizer()\n",
    "y = mlb.fit_transform(y)\n",
    "y.shape"
   ]
  },
  {
   "cell_type": "code",
   "execution_count": 16,
   "metadata": {},
   "outputs": [
    {
     "name": "stdout",
     "output_type": "stream",
     "text": [
      "MEAN_IR: 28.99\n"
     ]
    }
   ],
   "source": [
    "freq = np.sum(y, axis=0)\n",
    "irl_bl = np.max(freq) / freq\n",
    "print(f\"MEAN_IR: {np.mean(irl_bl):.2f}\")"
   ]
  },
  {
   "cell_type": "code",
   "execution_count": null,
   "metadata": {},
   "outputs": [],
   "source": [
    "import sys\n",
    "sys.path.append(\"..\")\n",
    "\n",
    "# Source: https://github.com/dagamu/textaug_dashboard/blob/main/src/genetic_sampler.py\n",
    "from src.genetic_sampler import GeneticSampler, uniform_crossover\n",
    "\n",
    "sampler = GeneticSampler(pob_size=50, crossover=uniform_crossover)"
   ]
  },
  {
   "cell_type": "code",
   "execution_count": 27,
   "metadata": {},
   "outputs": [
    {
     "name": "stdout",
     "output_type": "stream",
     "text": [
      "0 - Min Loss: 25.5110, Mean Loss: 29.7101\n",
      "50 - Min Loss: 13.2589, Mean Loss: 13.6085\n",
      "100 - Min Loss: 11.3510, Mean Loss: 11.3994\n",
      "150 - Min Loss: 11.2067, Mean Loss: 11.2067\n",
      "200 - Min Loss: 11.1882, Mean Loss: 11.1952\n",
      "250 - Min Loss: 11.1681, Mean Loss: 11.1681\n"
     ]
    },
    {
     "data": {
      "text/plain": [
       "array([0., 0., 0., ..., 0., 1., 0.])"
      ]
     },
     "execution_count": 27,
     "metadata": {},
     "output_type": "execute_result"
    }
   ],
   "source": [
    "def calc_pob_irlbl(pob):\n",
    "      freq = pob @ y\n",
    "      zero_mask = freq == 0\n",
    "      freq = np.ma.masked_array( freq, zero_mask, fill_value=0.01 )\n",
    "      \n",
    "      multi_args = {} if pob.ndim == 1 else { \"axis\": 1, \"keepdims\": True }\n",
    "      max_freq = np.max(freq, **multi_args )\n",
    "      irl_bl = max_freq / freq\n",
    "      return irl_bl\n",
    "\n",
    "def loss(pob):\n",
    "      irl_bl = calc_pob_irlbl(pob)\n",
    "      return np.mean(irl_bl, axis=1)\n",
    "\n",
    "optimal_sample = sampler.sample(y, loss=loss, max_iterations=300, target_actives=2000, keep_labels=True, verbose=50)\n",
    "optimal_sample"
   ]
  },
  {
   "cell_type": "code",
   "execution_count": 28,
   "metadata": {},
   "outputs": [
    {
     "name": "stdout",
     "output_type": "stream",
     "text": [
      "RESAMPLING MEAN_IR: 11.17\n",
      "NEW DATASET SIZE: 1853\n"
     ]
    }
   ],
   "source": [
    "freq = np.sum( y[optimal_sample.astype(bool)], axis=0)\n",
    "irl_bl = np.max(freq) / freq\n",
    "\n",
    "print(f\"RESAMPLING MEAN_IR: {np.mean(irl_bl):.2f}\")\n",
    "print(f\"NEW DATASET SIZE: { int(np.sum(optimal_sample)) }\")"
   ]
  }
 ],
 "metadata": {
  "kernelspec": {
   "display_name": "Python 3",
   "language": "python",
   "name": "python3"
  },
  "language_info": {
   "codemirror_mode": {
    "name": "ipython",
    "version": 3
   },
   "file_extension": ".py",
   "mimetype": "text/x-python",
   "name": "python",
   "nbconvert_exporter": "python",
   "pygments_lexer": "ipython3",
   "version": "3.10.11"
  }
 },
 "nbformat": 4,
 "nbformat_minor": 2
}
