{
 "cells": [
  {
   "cell_type": "code",
   "execution_count": 2,
   "metadata": {},
   "outputs": [],
   "source": [
    "import numpy as np\n",
    "from skmultilearn.dataset import load_dataset"
   ]
  },
  {
   "cell_type": "code",
   "execution_count": 6,
   "metadata": {},
   "outputs": [
    {
     "name": "stdout",
     "output_type": "stream",
     "text": [
      "medical:undivided - does not exists downloading\n",
      "Downloaded medical-undivided\n"
     ]
    },
    {
     "data": {
      "text/plain": [
       "(978, 45)"
      ]
     },
     "execution_count": 6,
     "metadata": {},
     "output_type": "execute_result"
    }
   ],
   "source": [
    "y_features = load_dataset('medical', variant='undivided')[1].toarray()\n",
    "y_features.shape"
   ]
  },
  {
   "cell_type": "code",
   "execution_count": 215,
   "metadata": {},
   "outputs": [
    {
     "name": "stdout",
     "output_type": "stream",
     "text": [
      "MeanIR = 89.50\n",
      "MaxIR = 266.00\n",
      "scumble = 0.0471\n"
     ]
    }
   ],
   "source": [
    "freq = np.sum(y_features, axis=0)\n",
    "IRLbl = np.max(freq) / freq\n",
    "MeanIR = np.mean(IRLbl)\n",
    "MaxIR = np.max(IRLbl)\n",
    "\n",
    "label_count = np.sum(y_features, axis=1)\n",
    "IRs = y_features * IRLbl\n",
    "IRmeans = np.sum(IRs, axis=1) / np.where(label_count == 0, 1, label_count)\n",
    "IRprod = np.prod(np.where(IRs == 0, 1, IRs), axis=1)\n",
    "scumble_ins = 1 - (IRprod ** (1 / label_count)) / IRmeans\n",
    "scumble = np.mean(scumble_ins)\n",
    "\n",
    "print(f\"{MeanIR = :.2f}\\n{MaxIR = :.2f}\\n{scumble = :.4f}\")"
   ]
  },
  {
   "cell_type": "code",
   "execution_count": null,
   "metadata": {},
   "outputs": [
    {
     "data": {
      "text/plain": [
       "0.04705599490203502"
      ]
     },
     "execution_count": 203,
     "metadata": {},
     "output_type": "execute_result"
    }
   ],
   "source": []
  },
  {
   "cell_type": "code",
   "execution_count": null,
   "metadata": {},
   "outputs": [],
   "source": [
    "test = "
   ]
  }
 ],
 "metadata": {
  "kernelspec": {
   "display_name": "Python 3",
   "language": "python",
   "name": "python3"
  },
  "language_info": {
   "codemirror_mode": {
    "name": "ipython",
    "version": 3
   },
   "file_extension": ".py",
   "mimetype": "text/x-python",
   "name": "python",
   "nbconvert_exporter": "python",
   "pygments_lexer": "ipython3",
   "version": "3.10.11"
  }
 },
 "nbformat": 4,
 "nbformat_minor": 2
}
